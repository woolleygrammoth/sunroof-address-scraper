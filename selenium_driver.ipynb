{
 "cells": [
  {
   "attachments": {},
   "cell_type": "markdown",
   "metadata": {},
   "source": [
    "# Google Project Sunroof - Web scraper assessment\n",
    "\n",
    "Sunroof does not have an API that I could find. I've emailed their team to inquire and they are interested in our particular use case. In the meantime I'll figure out whether a web scraper is feasible in a reasonable amount of time. "
   ]
  },
  {
   "attachments": {},
   "cell_type": "markdown",
   "metadata": {},
   "source": [
    "### &diams;&check; Download the chromedriver and set up an instance"
   ]
  },
  {
   "cell_type": "code",
   "execution_count": 11,
   "metadata": {},
   "outputs": [],
   "source": [
    "# URL for selenium chwromedriver\n",
    "url = 'https://chromedriver.chromium.org/downloads'\n",
    "# download the right version, put it in this directory and \n",
    "# ensure it clears the security protocols on your local machine\n"
   ]
  },
  {
   "cell_type": "code",
   "execution_count": 68,
   "metadata": {},
   "outputs": [],
   "source": [
    "# import libraries\n",
    "from selenium import webdriver\n",
    "from selenium.webdriver.chrome.service import Service\n",
    "from selenium.webdriver.common.keys import Keys\n",
    "from selenium.webdriver.common.by import By\n",
    "import pandas as pd\n",
    "\n",
    "#import helper functions\n",
    "from helper_functions import get_numeric"
   ]
  },
  {
   "attachments": {},
   "cell_type": "markdown",
   "metadata": {},
   "source": [
    "### &diams; Create a DataFrame that will store our results"
   ]
  },
  {
   "cell_type": "code",
   "execution_count": 69,
   "metadata": {},
   "outputs": [],
   "source": [
    "df = pd.DataFrame(columns=['Address', 'Annual Sunlight (Hours)', 'Roof Area (sq ft)', 'Savings ($)'])"
   ]
  },
  {
   "cell_type": "code",
   "execution_count": 70,
   "metadata": {},
   "outputs": [],
   "source": [
    "# instantiate an automated browser\n",
    "driver = webdriver.Chrome(service=Service('chromedriver'), options=webdriver.ChromeOptions())\n",
    "driver.maximize_window()"
   ]
  },
  {
   "attachments": {},
   "cell_type": "markdown",
   "metadata": {},
   "source": [
    "### &diams;&check; Get the sunroof homepage and obtain the results for an address"
   ]
  },
  {
   "cell_type": "code",
   "execution_count": 71,
   "metadata": {},
   "outputs": [],
   "source": [
    "address = '6968 Almondine Dr, Garden Grove CA 92845'\n",
    "\n",
    "driver.get('https://sunroof.withgoogle.com/') \n",
    "address_input = driver.find_element(by=By.CSS_SELECTOR, value=\"md-autocomplete.address-input\")\n",
    "address_input.send_keys(address) # input address \n",
    "address_input.send_keys(Keys.RETURN) # open the dropdown menu of addresses\n",
    "address_input.send_keys(Keys.DOWN) # tab down to the top result \n",
    "address_input.send_keys(Keys.RETURN) # execute the search and load the next page"
   ]
  },
  {
   "attachments": {},
   "cell_type": "markdown",
   "metadata": {},
   "source": [
    "### &diams; Parse the HTML for the numbers we need and store them in variables"
   ]
  },
  {
   "cell_type": "code",
   "execution_count": 74,
   "metadata": {},
   "outputs": [
    {
     "data": {
      "text/plain": [
       "1445"
      ]
     },
     "execution_count": 74,
     "metadata": {},
     "output_type": "execute_result"
    }
   ],
   "source": [
    "panel_facts = driver.find_elements(by=By.CLASS_NAME, value='panel-fact-text')\n",
    "sunlight_hours, sq_ft = [fact.text for fact in panel_facts]\n",
    "savings = driver.find_element(by=By.CLASS_NAME, value='panel-estimate-savings').text\n",
    "sunlight_hours, sq_ft, savings = list(map(lambda string: get_numeric(string), (sunlight_hours, sq_ft, savings)))\n",
    "sq_ft"
   ]
  },
  {
   "attachments": {},
   "cell_type": "markdown",
   "metadata": {},
   "source": [
    "### &diams; Build a dataframe with the results"
   ]
  },
  {
   "cell_type": "code",
   "execution_count": 75,
   "metadata": {},
   "outputs": [
    {
     "data": {
      "text/html": [
       "<div>\n",
       "<style scoped>\n",
       "    .dataframe tbody tr th:only-of-type {\n",
       "        vertical-align: middle;\n",
       "    }\n",
       "\n",
       "    .dataframe tbody tr th {\n",
       "        vertical-align: top;\n",
       "    }\n",
       "\n",
       "    .dataframe thead th {\n",
       "        text-align: right;\n",
       "    }\n",
       "</style>\n",
       "<table border=\"1\" class=\"dataframe\">\n",
       "  <thead>\n",
       "    <tr style=\"text-align: right;\">\n",
       "      <th></th>\n",
       "      <th>Address</th>\n",
       "      <th>Annual Sunlight (Hours)</th>\n",
       "      <th>Roof Area (sq ft)</th>\n",
       "      <th>Savings ($)</th>\n",
       "      <th>Roof Ares (sq ft)</th>\n",
       "    </tr>\n",
       "  </thead>\n",
       "  <tbody>\n",
       "    <tr>\n",
       "      <th>0</th>\n",
       "      <td>6968 Almondine Dr, Garden Grove CA 92845</td>\n",
       "      <td>1811</td>\n",
       "      <td>NaN</td>\n",
       "      <td>12000</td>\n",
       "      <td>1445.0</td>\n",
       "    </tr>\n",
       "  </tbody>\n",
       "</table>\n",
       "</div>"
      ],
      "text/plain": [
       "                                    Address Annual Sunlight (Hours)  \\\n",
       "0  6968 Almondine Dr, Garden Grove CA 92845                    1811   \n",
       "\n",
       "  Roof Area (sq ft) Savings ($)  Roof Ares (sq ft)  \n",
       "0               NaN       12000             1445.0  "
      ]
     },
     "execution_count": 75,
     "metadata": {},
     "output_type": "execute_result"
    }
   ],
   "source": [
    "data = pd.DataFrame(\n",
    "    {\n",
    "    'Address': [address]\n",
    "    , 'Annual Sunlight (Hours)': [sunlight_hours]\n",
    "    , 'Roof Ares (sq ft)': [sq_ft]\n",
    "    , 'Savings ($)': [savings]\n",
    "    }\n",
    ")\n",
    "df = pd.concat([df, data], ignore_index=True)\n",
    "df"
   ]
  }
 ],
 "metadata": {
  "kernelspec": {
   "display_name": "Python 3",
   "language": "python",
   "name": "python3"
  },
  "language_info": {
   "codemirror_mode": {
    "name": "ipython",
    "version": 3
   },
   "file_extension": ".py",
   "mimetype": "text/x-python",
   "name": "python",
   "nbconvert_exporter": "python",
   "pygments_lexer": "ipython3",
   "version": "3.10.6"
  },
  "orig_nbformat": 4,
  "vscode": {
   "interpreter": {
    "hash": "aee8b7b246df8f9039afb4144a1f6fd8d2ca17a180786b69acc140d282b71a49"
   }
  }
 },
 "nbformat": 4,
 "nbformat_minor": 2
}
